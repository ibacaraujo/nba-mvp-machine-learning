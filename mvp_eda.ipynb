{
 "cells": [
  {
   "cell_type": "markdown",
   "metadata": {},
   "source": [
    "# NBA MVP Prediction\n",
    "## Exploratory Data Analysis"
   ]
  },
  {
   "cell_type": "code",
   "execution_count": 36,
   "metadata": {},
   "outputs": [],
   "source": [
    "import pandas as pd\n",
    "import seaborn as sns\n",
    "import numpy as np"
   ]
  },
  {
   "cell_type": "code",
   "execution_count": 23,
   "metadata": {},
   "outputs": [],
   "source": [
    "df = pd.read_csv('mvp_votings.csv', usecols=range(1,27))"
   ]
  },
  {
   "cell_type": "code",
   "execution_count": 24,
   "metadata": {},
   "outputs": [
    {
     "data": {
      "text/html": [
       "<div>\n",
       "<style scoped>\n",
       "    .dataframe tbody tr th:only-of-type {\n",
       "        vertical-align: middle;\n",
       "    }\n",
       "\n",
       "    .dataframe tbody tr th {\n",
       "        vertical-align: top;\n",
       "    }\n",
       "\n",
       "    .dataframe thead th {\n",
       "        text-align: right;\n",
       "    }\n",
       "</style>\n",
       "<table border=\"1\" class=\"dataframe\">\n",
       "  <thead>\n",
       "    <tr style=\"text-align: right;\">\n",
       "      <th></th>\n",
       "      <th>fga</th>\n",
       "      <th>fg3a</th>\n",
       "      <th>fta</th>\n",
       "      <th>per</th>\n",
       "      <th>ts_pct</th>\n",
       "      <th>usg_pct</th>\n",
       "      <th>bpm</th>\n",
       "      <th>season</th>\n",
       "      <th>player</th>\n",
       "      <th>win_pct</th>\n",
       "      <th>...</th>\n",
       "      <th>pts_per_g</th>\n",
       "      <th>trb_per_g</th>\n",
       "      <th>ast_per_g</th>\n",
       "      <th>stl_per_g</th>\n",
       "      <th>blk_per_g</th>\n",
       "      <th>fg_pct</th>\n",
       "      <th>fg3_pct</th>\n",
       "      <th>ft_pct</th>\n",
       "      <th>ws</th>\n",
       "      <th>ws_per_48</th>\n",
       "    </tr>\n",
       "  </thead>\n",
       "  <tbody>\n",
       "    <tr>\n",
       "      <th>0</th>\n",
       "      <td>18.6</td>\n",
       "      <td>0.2</td>\n",
       "      <td>6.5</td>\n",
       "      <td>25.1</td>\n",
       "      <td>0.572</td>\n",
       "      <td>28.4</td>\n",
       "      <td>8.0</td>\n",
       "      <td>1980-81</td>\n",
       "      <td>Julius Erving</td>\n",
       "      <td>0.756098</td>\n",
       "      <td>...</td>\n",
       "      <td>24.6</td>\n",
       "      <td>8.0</td>\n",
       "      <td>4.4</td>\n",
       "      <td>2.1</td>\n",
       "      <td>1.8</td>\n",
       "      <td>0.521</td>\n",
       "      <td>0.222</td>\n",
       "      <td>0.787</td>\n",
       "      <td>13.8</td>\n",
       "      <td>0.231</td>\n",
       "    </tr>\n",
       "    <tr>\n",
       "      <th>1</th>\n",
       "      <td>18.3</td>\n",
       "      <td>0.9</td>\n",
       "      <td>4.0</td>\n",
       "      <td>19.9</td>\n",
       "      <td>0.528</td>\n",
       "      <td>24.3</td>\n",
       "      <td>5.1</td>\n",
       "      <td>1980-81</td>\n",
       "      <td>Larry Bird</td>\n",
       "      <td>0.756098</td>\n",
       "      <td>...</td>\n",
       "      <td>21.2</td>\n",
       "      <td>10.9</td>\n",
       "      <td>5.5</td>\n",
       "      <td>2.0</td>\n",
       "      <td>0.8</td>\n",
       "      <td>0.478</td>\n",
       "      <td>0.270</td>\n",
       "      <td>0.863</td>\n",
       "      <td>10.8</td>\n",
       "      <td>0.160</td>\n",
       "    </tr>\n",
       "    <tr>\n",
       "      <th>2</th>\n",
       "      <td>18.2</td>\n",
       "      <td>0.0</td>\n",
       "      <td>6.9</td>\n",
       "      <td>25.5</td>\n",
       "      <td>0.616</td>\n",
       "      <td>26.3</td>\n",
       "      <td>5.3</td>\n",
       "      <td>1980-81</td>\n",
       "      <td>Kareem Abdul-Jabbar</td>\n",
       "      <td>0.658537</td>\n",
       "      <td>...</td>\n",
       "      <td>26.2</td>\n",
       "      <td>10.3</td>\n",
       "      <td>3.4</td>\n",
       "      <td>0.7</td>\n",
       "      <td>2.9</td>\n",
       "      <td>0.574</td>\n",
       "      <td>0.000</td>\n",
       "      <td>0.766</td>\n",
       "      <td>14.3</td>\n",
       "      <td>0.230</td>\n",
       "    </tr>\n",
       "    <tr>\n",
       "      <th>3</th>\n",
       "      <td>19.3</td>\n",
       "      <td>0.0</td>\n",
       "      <td>10.1</td>\n",
       "      <td>25.1</td>\n",
       "      <td>0.585</td>\n",
       "      <td>27.6</td>\n",
       "      <td>3.7</td>\n",
       "      <td>1980-81</td>\n",
       "      <td>Moses Malone</td>\n",
       "      <td>0.487805</td>\n",
       "      <td>...</td>\n",
       "      <td>27.8</td>\n",
       "      <td>14.8</td>\n",
       "      <td>1.8</td>\n",
       "      <td>1.0</td>\n",
       "      <td>1.9</td>\n",
       "      <td>0.522</td>\n",
       "      <td>0.333</td>\n",
       "      <td>0.757</td>\n",
       "      <td>13.7</td>\n",
       "      <td>0.202</td>\n",
       "    </tr>\n",
       "    <tr>\n",
       "      <th>4</th>\n",
       "      <td>21.1</td>\n",
       "      <td>0.4</td>\n",
       "      <td>7.6</td>\n",
       "      <td>22.9</td>\n",
       "      <td>0.555</td>\n",
       "      <td>32.3</td>\n",
       "      <td>1.6</td>\n",
       "      <td>1980-81</td>\n",
       "      <td>George Gervin</td>\n",
       "      <td>0.634146</td>\n",
       "      <td>...</td>\n",
       "      <td>27.1</td>\n",
       "      <td>5.1</td>\n",
       "      <td>3.2</td>\n",
       "      <td>1.1</td>\n",
       "      <td>0.7</td>\n",
       "      <td>0.492</td>\n",
       "      <td>0.257</td>\n",
       "      <td>0.826</td>\n",
       "      <td>10.5</td>\n",
       "      <td>0.182</td>\n",
       "    </tr>\n",
       "  </tbody>\n",
       "</table>\n",
       "<p>5 rows × 26 columns</p>\n",
       "</div>"
      ],
      "text/plain": [
       "    fga  fg3a   fta   per  ts_pct  usg_pct  bpm   season               player  \\\n",
       "0  18.6   0.2   6.5  25.1   0.572     28.4  8.0  1980-81        Julius Erving   \n",
       "1  18.3   0.9   4.0  19.9   0.528     24.3  5.1  1980-81           Larry Bird   \n",
       "2  18.2   0.0   6.9  25.5   0.616     26.3  5.3  1980-81  Kareem Abdul-Jabbar   \n",
       "3  19.3   0.0  10.1  25.1   0.585     27.6  3.7  1980-81         Moses Malone   \n",
       "4  21.1   0.4   7.6  22.9   0.555     32.3  1.6  1980-81        George Gervin   \n",
       "\n",
       "    win_pct  ...  pts_per_g  trb_per_g  ast_per_g  stl_per_g  blk_per_g  \\\n",
       "0  0.756098  ...       24.6        8.0        4.4        2.1        1.8   \n",
       "1  0.756098  ...       21.2       10.9        5.5        2.0        0.8   \n",
       "2  0.658537  ...       26.2       10.3        3.4        0.7        2.9   \n",
       "3  0.487805  ...       27.8       14.8        1.8        1.0        1.9   \n",
       "4  0.634146  ...       27.1        5.1        3.2        1.1        0.7   \n",
       "\n",
       "   fg_pct  fg3_pct  ft_pct    ws  ws_per_48  \n",
       "0   0.521    0.222   0.787  13.8      0.231  \n",
       "1   0.478    0.270   0.863  10.8      0.160  \n",
       "2   0.574    0.000   0.766  14.3      0.230  \n",
       "3   0.522    0.333   0.757  13.7      0.202  \n",
       "4   0.492    0.257   0.826  10.5      0.182  \n",
       "\n",
       "[5 rows x 26 columns]"
      ]
     },
     "execution_count": 24,
     "metadata": {},
     "output_type": "execute_result"
    }
   ],
   "source": [
    "df.head()"
   ]
  },
  {
   "cell_type": "code",
   "execution_count": 25,
   "metadata": {},
   "outputs": [
    {
     "data": {
      "text/plain": [
       "fga            float64\n",
       "fg3a           float64\n",
       "fta            float64\n",
       "per            float64\n",
       "ts_pct         float64\n",
       "usg_pct        float64\n",
       "bpm            float64\n",
       "season          object\n",
       "player          object\n",
       "win_pct        float64\n",
       "votes_first    float64\n",
       "points_won     float64\n",
       "points_max     float64\n",
       "award_share    float64\n",
       "g              float64\n",
       "mp_per_g       float64\n",
       "pts_per_g      float64\n",
       "trb_per_g      float64\n",
       "ast_per_g      float64\n",
       "stl_per_g      float64\n",
       "blk_per_g      float64\n",
       "fg_pct         float64\n",
       "fg3_pct        float64\n",
       "ft_pct         float64\n",
       "ws             float64\n",
       "ws_per_48      float64\n",
       "dtype: object"
      ]
     },
     "execution_count": 25,
     "metadata": {},
     "output_type": "execute_result"
    }
   ],
   "source": [
    "df.dtypes"
   ]
  },
  {
   "cell_type": "code",
   "execution_count": 26,
   "metadata": {},
   "outputs": [
    {
     "name": "stdout",
     "output_type": "stream",
     "text": [
      "<class 'pandas.core.frame.DataFrame'>\n",
      "RangeIndex: 637 entries, 0 to 636\n",
      "Data columns (total 26 columns):\n",
      "fga            637 non-null float64\n",
      "fg3a           637 non-null float64\n",
      "fta            637 non-null float64\n",
      "per            637 non-null float64\n",
      "ts_pct         637 non-null float64\n",
      "usg_pct        637 non-null float64\n",
      "bpm            637 non-null float64\n",
      "season         637 non-null object\n",
      "player         637 non-null object\n",
      "win_pct        637 non-null float64\n",
      "votes_first    637 non-null float64\n",
      "points_won     637 non-null float64\n",
      "points_max     637 non-null float64\n",
      "award_share    637 non-null float64\n",
      "g              637 non-null float64\n",
      "mp_per_g       637 non-null float64\n",
      "pts_per_g      637 non-null float64\n",
      "trb_per_g      637 non-null float64\n",
      "ast_per_g      637 non-null float64\n",
      "stl_per_g      637 non-null float64\n",
      "blk_per_g      637 non-null float64\n",
      "fg_pct         637 non-null float64\n",
      "fg3_pct        637 non-null float64\n",
      "ft_pct         637 non-null float64\n",
      "ws             637 non-null float64\n",
      "ws_per_48      637 non-null float64\n",
      "dtypes: float64(24), object(2)\n",
      "memory usage: 129.5+ KB\n"
     ]
    }
   ],
   "source": [
    "df.info()"
   ]
  },
  {
   "cell_type": "code",
   "execution_count": 27,
   "metadata": {},
   "outputs": [
    {
     "data": {
      "text/html": [
       "<div>\n",
       "<style scoped>\n",
       "    .dataframe tbody tr th:only-of-type {\n",
       "        vertical-align: middle;\n",
       "    }\n",
       "\n",
       "    .dataframe tbody tr th {\n",
       "        vertical-align: top;\n",
       "    }\n",
       "\n",
       "    .dataframe thead th {\n",
       "        text-align: right;\n",
       "    }\n",
       "</style>\n",
       "<table border=\"1\" class=\"dataframe\">\n",
       "  <thead>\n",
       "    <tr style=\"text-align: right;\">\n",
       "      <th></th>\n",
       "      <th>fga</th>\n",
       "      <th>fg3a</th>\n",
       "      <th>fta</th>\n",
       "      <th>per</th>\n",
       "      <th>ts_pct</th>\n",
       "      <th>usg_pct</th>\n",
       "      <th>bpm</th>\n",
       "      <th>win_pct</th>\n",
       "      <th>votes_first</th>\n",
       "      <th>points_won</th>\n",
       "      <th>...</th>\n",
       "      <th>pts_per_g</th>\n",
       "      <th>trb_per_g</th>\n",
       "      <th>ast_per_g</th>\n",
       "      <th>stl_per_g</th>\n",
       "      <th>blk_per_g</th>\n",
       "      <th>fg_pct</th>\n",
       "      <th>fg3_pct</th>\n",
       "      <th>ft_pct</th>\n",
       "      <th>ws</th>\n",
       "      <th>ws_per_48</th>\n",
       "    </tr>\n",
       "  </thead>\n",
       "  <tbody>\n",
       "    <tr>\n",
       "      <th>count</th>\n",
       "      <td>637.000000</td>\n",
       "      <td>637.000000</td>\n",
       "      <td>637.000000</td>\n",
       "      <td>637.000000</td>\n",
       "      <td>637.000000</td>\n",
       "      <td>637.000000</td>\n",
       "      <td>637.00000</td>\n",
       "      <td>637.000000</td>\n",
       "      <td>637.000000</td>\n",
       "      <td>637.000000</td>\n",
       "      <td>...</td>\n",
       "      <td>637.000000</td>\n",
       "      <td>637.000000</td>\n",
       "      <td>637.000000</td>\n",
       "      <td>637.000000</td>\n",
       "      <td>637.000000</td>\n",
       "      <td>637.000000</td>\n",
       "      <td>637.000000</td>\n",
       "      <td>637.000000</td>\n",
       "      <td>637.000000</td>\n",
       "      <td>637.000000</td>\n",
       "    </tr>\n",
       "    <tr>\n",
       "      <th>mean</th>\n",
       "      <td>16.493878</td>\n",
       "      <td>1.990738</td>\n",
       "      <td>6.431868</td>\n",
       "      <td>22.451491</td>\n",
       "      <td>0.568061</td>\n",
       "      <td>26.456829</td>\n",
       "      <td>4.55573</td>\n",
       "      <td>0.630860</td>\n",
       "      <td>6.362637</td>\n",
       "      <td>165.382889</td>\n",
       "      <td>...</td>\n",
       "      <td>21.929670</td>\n",
       "      <td>7.430298</td>\n",
       "      <td>4.985086</td>\n",
       "      <td>1.428728</td>\n",
       "      <td>0.983046</td>\n",
       "      <td>0.494264</td>\n",
       "      <td>0.256515</td>\n",
       "      <td>0.779834</td>\n",
       "      <td>10.689639</td>\n",
       "      <td>0.187165</td>\n",
       "    </tr>\n",
       "    <tr>\n",
       "      <th>std</th>\n",
       "      <td>3.885812</td>\n",
       "      <td>2.205053</td>\n",
       "      <td>2.220213</td>\n",
       "      <td>3.731392</td>\n",
       "      <td>0.039137</td>\n",
       "      <td>4.869641</td>\n",
       "      <td>2.69811</td>\n",
       "      <td>0.108075</td>\n",
       "      <td>20.226226</td>\n",
       "      <td>284.177362</td>\n",
       "      <td>...</td>\n",
       "      <td>5.151078</td>\n",
       "      <td>3.292937</td>\n",
       "      <td>2.838656</td>\n",
       "      <td>0.586569</td>\n",
       "      <td>0.933544</td>\n",
       "      <td>0.045071</td>\n",
       "      <td>0.154165</td>\n",
       "      <td>0.087450</td>\n",
       "      <td>3.377285</td>\n",
       "      <td>0.048531</td>\n",
       "    </tr>\n",
       "    <tr>\n",
       "      <th>min</th>\n",
       "      <td>3.700000</td>\n",
       "      <td>0.000000</td>\n",
       "      <td>1.300000</td>\n",
       "      <td>10.100000</td>\n",
       "      <td>0.441000</td>\n",
       "      <td>7.100000</td>\n",
       "      <td>-2.80000</td>\n",
       "      <td>0.219512</td>\n",
       "      <td>0.000000</td>\n",
       "      <td>1.000000</td>\n",
       "      <td>...</td>\n",
       "      <td>4.700000</td>\n",
       "      <td>1.900000</td>\n",
       "      <td>0.800000</td>\n",
       "      <td>0.200000</td>\n",
       "      <td>0.000000</td>\n",
       "      <td>0.384000</td>\n",
       "      <td>0.000000</td>\n",
       "      <td>0.422000</td>\n",
       "      <td>2.300000</td>\n",
       "      <td>0.046000</td>\n",
       "    </tr>\n",
       "    <tr>\n",
       "      <th>25%</th>\n",
       "      <td>13.900000</td>\n",
       "      <td>0.100000</td>\n",
       "      <td>4.800000</td>\n",
       "      <td>19.900000</td>\n",
       "      <td>0.542000</td>\n",
       "      <td>23.600000</td>\n",
       "      <td>2.60000</td>\n",
       "      <td>0.560976</td>\n",
       "      <td>0.000000</td>\n",
       "      <td>3.000000</td>\n",
       "      <td>...</td>\n",
       "      <td>18.800000</td>\n",
       "      <td>4.800000</td>\n",
       "      <td>2.700000</td>\n",
       "      <td>1.000000</td>\n",
       "      <td>0.300000</td>\n",
       "      <td>0.463000</td>\n",
       "      <td>0.167000</td>\n",
       "      <td>0.737000</td>\n",
       "      <td>8.400000</td>\n",
       "      <td>0.155000</td>\n",
       "    </tr>\n",
       "    <tr>\n",
       "      <th>50%</th>\n",
       "      <td>16.700000</td>\n",
       "      <td>1.000000</td>\n",
       "      <td>6.200000</td>\n",
       "      <td>22.600000</td>\n",
       "      <td>0.566000</td>\n",
       "      <td>26.600000</td>\n",
       "      <td>4.50000</td>\n",
       "      <td>0.646341</td>\n",
       "      <td>0.000000</td>\n",
       "      <td>22.000000</td>\n",
       "      <td>...</td>\n",
       "      <td>21.800000</td>\n",
       "      <td>6.900000</td>\n",
       "      <td>4.300000</td>\n",
       "      <td>1.400000</td>\n",
       "      <td>0.600000</td>\n",
       "      <td>0.492000</td>\n",
       "      <td>0.300000</td>\n",
       "      <td>0.789000</td>\n",
       "      <td>10.600000</td>\n",
       "      <td>0.186000</td>\n",
       "    </tr>\n",
       "    <tr>\n",
       "      <th>75%</th>\n",
       "      <td>19.100000</td>\n",
       "      <td>3.600000</td>\n",
       "      <td>7.900000</td>\n",
       "      <td>24.700000</td>\n",
       "      <td>0.596000</td>\n",
       "      <td>29.800000</td>\n",
       "      <td>6.10000</td>\n",
       "      <td>0.707317</td>\n",
       "      <td>1.000000</td>\n",
       "      <td>183.000000</td>\n",
       "      <td>...</td>\n",
       "      <td>25.600000</td>\n",
       "      <td>10.300000</td>\n",
       "      <td>6.700000</td>\n",
       "      <td>1.800000</td>\n",
       "      <td>1.400000</td>\n",
       "      <td>0.523000</td>\n",
       "      <td>0.364000</td>\n",
       "      <td>0.842000</td>\n",
       "      <td>12.900000</td>\n",
       "      <td>0.218000</td>\n",
       "    </tr>\n",
       "    <tr>\n",
       "      <th>max</th>\n",
       "      <td>27.800000</td>\n",
       "      <td>11.200000</td>\n",
       "      <td>13.100000</td>\n",
       "      <td>31.700000</td>\n",
       "      <td>0.699000</td>\n",
       "      <td>41.700000</td>\n",
       "      <td>15.60000</td>\n",
       "      <td>0.890244</td>\n",
       "      <td>131.000000</td>\n",
       "      <td>1310.000000</td>\n",
       "      <td>...</td>\n",
       "      <td>37.100000</td>\n",
       "      <td>18.700000</td>\n",
       "      <td>14.500000</td>\n",
       "      <td>3.700000</td>\n",
       "      <td>5.600000</td>\n",
       "      <td>0.670000</td>\n",
       "      <td>1.000000</td>\n",
       "      <td>0.948000</td>\n",
       "      <td>21.200000</td>\n",
       "      <td>0.322000</td>\n",
       "    </tr>\n",
       "  </tbody>\n",
       "</table>\n",
       "<p>8 rows × 24 columns</p>\n",
       "</div>"
      ],
      "text/plain": [
       "              fga        fg3a         fta         per      ts_pct     usg_pct  \\\n",
       "count  637.000000  637.000000  637.000000  637.000000  637.000000  637.000000   \n",
       "mean    16.493878    1.990738    6.431868   22.451491    0.568061   26.456829   \n",
       "std      3.885812    2.205053    2.220213    3.731392    0.039137    4.869641   \n",
       "min      3.700000    0.000000    1.300000   10.100000    0.441000    7.100000   \n",
       "25%     13.900000    0.100000    4.800000   19.900000    0.542000   23.600000   \n",
       "50%     16.700000    1.000000    6.200000   22.600000    0.566000   26.600000   \n",
       "75%     19.100000    3.600000    7.900000   24.700000    0.596000   29.800000   \n",
       "max     27.800000   11.200000   13.100000   31.700000    0.699000   41.700000   \n",
       "\n",
       "             bpm     win_pct  votes_first   points_won  ...   pts_per_g  \\\n",
       "count  637.00000  637.000000   637.000000   637.000000  ...  637.000000   \n",
       "mean     4.55573    0.630860     6.362637   165.382889  ...   21.929670   \n",
       "std      2.69811    0.108075    20.226226   284.177362  ...    5.151078   \n",
       "min     -2.80000    0.219512     0.000000     1.000000  ...    4.700000   \n",
       "25%      2.60000    0.560976     0.000000     3.000000  ...   18.800000   \n",
       "50%      4.50000    0.646341     0.000000    22.000000  ...   21.800000   \n",
       "75%      6.10000    0.707317     1.000000   183.000000  ...   25.600000   \n",
       "max     15.60000    0.890244   131.000000  1310.000000  ...   37.100000   \n",
       "\n",
       "        trb_per_g   ast_per_g   stl_per_g   blk_per_g      fg_pct     fg3_pct  \\\n",
       "count  637.000000  637.000000  637.000000  637.000000  637.000000  637.000000   \n",
       "mean     7.430298    4.985086    1.428728    0.983046    0.494264    0.256515   \n",
       "std      3.292937    2.838656    0.586569    0.933544    0.045071    0.154165   \n",
       "min      1.900000    0.800000    0.200000    0.000000    0.384000    0.000000   \n",
       "25%      4.800000    2.700000    1.000000    0.300000    0.463000    0.167000   \n",
       "50%      6.900000    4.300000    1.400000    0.600000    0.492000    0.300000   \n",
       "75%     10.300000    6.700000    1.800000    1.400000    0.523000    0.364000   \n",
       "max     18.700000   14.500000    3.700000    5.600000    0.670000    1.000000   \n",
       "\n",
       "           ft_pct          ws   ws_per_48  \n",
       "count  637.000000  637.000000  637.000000  \n",
       "mean     0.779834   10.689639    0.187165  \n",
       "std      0.087450    3.377285    0.048531  \n",
       "min      0.422000    2.300000    0.046000  \n",
       "25%      0.737000    8.400000    0.155000  \n",
       "50%      0.789000   10.600000    0.186000  \n",
       "75%      0.842000   12.900000    0.218000  \n",
       "max      0.948000   21.200000    0.322000  \n",
       "\n",
       "[8 rows x 24 columns]"
      ]
     },
     "execution_count": 27,
     "metadata": {},
     "output_type": "execute_result"
    }
   ],
   "source": [
    "df.describe()"
   ]
  },
  {
   "cell_type": "code",
   "execution_count": 28,
   "metadata": {},
   "outputs": [
    {
     "data": {
      "image/png": "[encoded data removed]",
      "text/plain": [
       "<Figure size 432x288 with 1 Axes>"
      ]
     },
     "metadata": {
      "needs_background": "light"
     },
     "output_type": "display_data"
    }
   ],
   "source": [
    "# Let's check the distribution of the target feature, award_share\n",
    "sns.distplot(df['award_share'], kde=False);"
   ]
  },
  {
   "cell_type": "code",
   "execution_count": 29,
   "metadata": {},
   "outputs": [
    {
     "data": {
      "image/png": "[encoded data removed]",
      "text/plain": [
       "<Figure size 432x288 with 2 Axes>"
      ]
     },
     "metadata": {
      "needs_background": "light"
     },
     "output_type": "display_data"
    }
   ],
   "source": [
    "sns.heatmap(df.corr(), fmt=\".2f\");"
   ]
  },
  {
   "cell_type": "markdown",
   "metadata": {},
   "source": [
    "## Feature selection"
   ]
  },
  {
   "cell_type": "code",
   "execution_count": 30,
   "metadata": {},
   "outputs": [],
   "source": [
    "from sklearn.feature_selection import SelectKBest, mutual_info_regression, f_regression\n",
    "from sklearn.ensemble import RandomForestRegressor"
   ]
  },
  {
   "cell_type": "code",
   "execution_count": 31,
   "metadata": {},
   "outputs": [],
   "source": [
    "orig_features = ['fga', 'fg3a', 'fta', 'per', 'ts_pct', 'usg_pct', 'bpm',\n",
    "                 'mp_per_g', 'pts_per_g', 'trb_per_g', 'ast_per_g',\n",
    "                 'stl_per_g', 'blk_per_g', 'fg_pct', 'fg3_pct', 'ft_pct',\n",
    "                 'ws', 'ws_per_48', 'win_pct']"
   ]
  },
  {
   "cell_type": "code",
   "execution_count": 32,
   "metadata": {},
   "outputs": [],
   "source": [
    "x_data = df[orig_features].to_numpy()\n",
    "y_data = df[['award_share']].to_numpy()\n",
    "y_data = y_data.reshape(y_data.shape[0], )"
   ]
  },
  {
   "cell_type": "code",
   "execution_count": 15,
   "metadata": {},
   "outputs": [
    {
     "data": {
      "text/plain": [
       "((637, 19), (637,))"
      ]
     },
     "execution_count": 15,
     "metadata": {},
     "output_type": "execute_result"
    }
   ],
   "source": [
    "x_data.shape, y_data.shape"
   ]
  },
  {
   "cell_type": "markdown",
   "metadata": {},
   "source": [
    "### Checking the most important features using Random Forest"
   ]
  },
  {
   "cell_type": "code",
   "execution_count": 37,
   "metadata": {},
   "outputs": [],
   "source": [
    "regressor = RandomForestRegressor(n_estimators=200)"
   ]
  },
  {
   "cell_type": "code",
   "execution_count": 38,
   "metadata": {},
   "outputs": [
    {
     "data": {
      "text/plain": [
       "RandomForestRegressor(bootstrap=True, criterion='mse', max_depth=None,\n",
       "                      max_features='auto', max_leaf_nodes=None,\n",
       "                      min_impurity_decrease=0.0, min_impurity_split=None,\n",
       "                      min_samples_leaf=1, min_samples_split=2,\n",
       "                      min_weight_fraction_leaf=0.0, n_estimators=200,\n",
       "                      n_jobs=None, oob_score=False, random_state=None,\n",
       "                      verbose=0, warm_start=False)"
      ]
     },
     "execution_count": 38,
     "metadata": {},
     "output_type": "execute_result"
    }
   ],
   "source": [
    "regressor.fit(x_data, y_data)"
   ]
  },
  {
   "cell_type": "code",
   "execution_count": 39,
   "metadata": {},
   "outputs": [],
   "source": [
    "sorted_indices = np.argsort(regressor.feature_importances_)[::-1]"
   ]
  },
  {
   "cell_type": "code",
   "execution_count": 40,
   "metadata": {},
   "outputs": [
    {
     "name": "stdout",
     "output_type": "stream",
     "text": [
      "ws: 0.38823896977009464\n",
      "win_pct: 0.12674763806442013\n",
      "per: 0.1070946688156062\n",
      "bpm: 0.056556351703013125\n",
      "ws_per_48: 0.039869090567403766\n",
      "fga: 0.036844667803568557\n",
      "usg_pct: 0.030749421284252884\n",
      "ast_per_g: 0.024838489163130625\n",
      "ft_pct: 0.02442596798071554\n",
      "mp_per_g: 0.022890425064467337\n",
      "fta: 0.022857777643974193\n",
      "fg_pct: 0.02168949411648574\n",
      "pts_per_g: 0.01730579373103885\n",
      "ts_pct: 0.01592276601062293\n",
      "fg3_pct: 0.01576337955863216\n",
      "trb_per_g: 0.014811918947121793\n",
      "blk_per_g: 0.012122277345576292\n",
      "fg3a: 0.010712768889209393\n",
      "stl_per_g: 0.010558133540665782\n"
     ]
    }
   ],
   "source": [
    "for index in sorted_indices:\n",
    "    print(f\"{orig_features[index]}: {regressor.feature_importances_[index]}\")"
   ]
  },
  {
   "cell_type": "markdown",
   "metadata": {},
   "source": [
    "### Performing feature selection"
   ]
  },
  {
   "cell_type": "code",
   "execution_count": 41,
   "metadata": {},
   "outputs": [],
   "source": [
    "selector = SelectKBest(mutual_info_regression, k=5)"
   ]
  },
  {
   "cell_type": "code",
   "execution_count": 42,
   "metadata": {},
   "outputs": [],
   "source": [
    "best_features = selector.fit_transform(x_data, y_data)"
   ]
  },
  {
   "cell_type": "code",
   "execution_count": 43,
   "metadata": {},
   "outputs": [],
   "source": [
    "sorted_indices = np.argsort(selector.scores_)[::-1]"
   ]
  },
  {
   "cell_type": "code",
   "execution_count": 44,
   "metadata": {},
   "outputs": [
    {
     "name": "stdout",
     "output_type": "stream",
     "text": [
      "ws: 0.2902\n",
      "per: 0.2780\n",
      "ws_per_48: 0.2529\n",
      "bpm: 0.1993\n",
      "pts_per_g: 0.1540\n",
      "win_pct: 0.1189\n",
      "usg_pct: 0.1001\n",
      "fta: 0.0922\n",
      "fga: 0.0781\n",
      "ts_pct: 0.0742\n",
      "mp_per_g: 0.0697\n",
      "trb_per_g: 0.0644\n",
      "fg3a: 0.0375\n",
      "ft_pct: 0.0311\n",
      "fg_pct: 0.0292\n",
      "blk_per_g: 0.0263\n",
      "ast_per_g: 0.0221\n",
      "stl_per_g: 0.0164\n",
      "fg3_pct: 0.0136\n"
     ]
    }
   ],
   "source": [
    "for index in sorted_indices:\n",
    "    print(f\"{orig_features[index]}: {selector.scores_[index]:.4f}\")"
   ]
  },
  {
   "cell_type": "markdown",
   "metadata": {},
   "source": [
    "#### Selected features"
   ]
  },
  {
   "cell_type": "code",
   "execution_count": 46,
   "metadata": {},
   "outputs": [],
   "source": [
    "features = ['ts_pct', 'bpm', 'usg_pct', 'pts_per_g', 'trb_per_g', 'per', 'ws', 'win_pct']\n",
    "target = ['award_share']"
   ]
  },
  {
   "cell_type": "code",
   "execution_count": 48,
   "metadata": {},
   "outputs": [],
   "source": [
    "mvp_regression_df = df[features + target]"
   ]
  },
  {
   "cell_type": "code",
   "execution_count": 49,
   "metadata": {},
   "outputs": [],
   "source": [
    "mvp_regression_df.to_csv(\"nba_mvp_votings.csv\")"
   ]
  },
  {
   "cell_type": "markdown",
   "metadata": {},
   "source": [
    "# What Makes an MVP?\n",
    "\n",
    "TODO"
   ]
  }
 ],
 "metadata": {
  "kernelspec": {
   "display_name": "Python 3",
   "language": "python",
   "name": "python3"
  },
  "language_info": {
   "codemirror_mode": {
    "name": "ipython",
    "version": 3
   },
   "file_extension": ".py",
   "mimetype": "text/x-python",
   "name": "python",
   "nbconvert_exporter": "python",
   "pygments_lexer": "ipython3",
   "version": "3.7.3"
  }
 },
 "nbformat": 4,
 "nbformat_minor": 2
}
