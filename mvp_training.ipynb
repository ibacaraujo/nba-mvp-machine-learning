{
 "cells": [
  {
   "cell_type": "markdown",
   "metadata": {},
   "source": [
    "# NBA MVP Prediction"
   ]
  },
  {
   "cell_type": "markdown",
   "metadata": {},
   "source": [
    "## Load libraries and dataset"
   ]
  },
  {
   "cell_type": "code",
   "execution_count": 35,
   "metadata": {},
   "outputs": [],
   "source": [
    "import numpy as np\n",
    "import pandas as pd\n",
    "from sklearn.utils import shuffle"
   ]
  },
  {
   "cell_type": "code",
   "execution_count": 36,
   "metadata": {},
   "outputs": [],
   "source": [
    "df = pd.read_csv('mvp_votings.csv', index_col=0)\n",
    "test_data = pd.read_csv('test_data.csv')\n",
    "top_players = pd.read_csv('top_players.csv')"
   ]
  },
  {
   "cell_type": "code",
   "execution_count": 37,
   "metadata": {},
   "outputs": [],
   "source": [
    "features = ['ts_pct', 'bpm', 'mp_per_g', 'pts_per_g', 'trb_per_g', 'ast_per_g',\n",
    "            'stl_per_g', 'blk_per_g', 'ws', 'win_pct']\n",
    "target = ['award_share']"
   ]
  },
  {
   "cell_type": "code",
   "execution_count": 38,
   "metadata": {},
   "outputs": [],
   "source": [
    "train_x = df[features]\n",
    "train_y = df[target]\n",
    "train_x, train_y = shuffle(train_x, train_y)\n",
    "test_x = test_data[features]"
   ]
  },
  {
   "cell_type": "markdown",
   "metadata": {},
   "source": [
    "## Training"
   ]
  },
  {
   "cell_type": "code",
   "execution_count": 41,
   "metadata": {},
   "outputs": [],
   "source": [
    "model = GradientBoostingRegressor(n_estimators=50, learning_rate=0.1, subsample=1.0)\n",
    "model.fit(train_x, train_y.values.ravel())\n",
    "predict_y = model.predict(test_x)\n",
    "sorted_indices = np.argsort(predict_y)[::-1]\n",
    "predictions = predict_y[sorted_indices]"
   ]
  },
  {
   "cell_type": "code",
   "execution_count": 42,
   "metadata": {},
   "outputs": [
    {
     "name": "stdout",
     "output_type": "stream",
     "text": [
      "Predictions\n",
      "1. Giannis Antetokounmpo: 0.695780342942097\n",
      "2. James Harden: 0.654097539747384\n",
      "3. Stephen Curry: 0.2491639522703433\n",
      "4. Nikola Jokic: 0.21934668464711254\n",
      "5. Rudy Gobert: 0.17310857945559327\n",
      "6. Joel Embiid: 0.15720551255113369\n",
      "7. Paul George: 0.1439671004762738\n",
      "8. Kawhi Leonard: 0.12687514124654756\n",
      "9. Damian Lillard: 0.0990347191266225\n",
      "10. Kevin Durant: 0.0915350168186845\n"
     ]
    }
   ],
   "source": [
    "print(f\"Predictions\")\n",
    "for i in range(10):\n",
    "    print(f\"{i+1}. {top_players.iloc[sorted_indices[i]].Player}: {predictions[i]}\")"
   ]
  },
  {
   "cell_type": "code",
   "execution_count": 43,
   "metadata": {},
   "outputs": [],
   "source": [
    "poly_fit=PolynomialFeatures(degree=2, interaction_only=False)\n",
    "train_x = poly_fit.fit_transform(train_x)\n",
    "test_x = poly_fit.fit_transform(test_x)"
   ]
  },
  {
   "cell_type": "code",
   "execution_count": 44,
   "metadata": {},
   "outputs": [],
   "source": [
    "model = GradientBoostingRegressor(n_estimators=50, learning_rate=0.1, subsample=1.0)\n",
    "model.fit(train_x, train_y.values.ravel())\n",
    "predict_y = model.predict(test_x)\n",
    "sorted_indices = np.argsort(predict_y)[::-1]\n",
    "predictions = predict_y[sorted_indices]"
   ]
  },
  {
   "cell_type": "code",
   "execution_count": 45,
   "metadata": {},
   "outputs": [
    {
     "name": "stdout",
     "output_type": "stream",
     "text": [
      "Predictions\n",
      "1. James Harden: 0.7503165092408556\n",
      "2. Giannis Antetokounmpo: 0.712823362360791\n",
      "3. Joel Embiid: 0.34113949145932676\n",
      "4. Kawhi Leonard: 0.26369955851669674\n",
      "5. Paul George: 0.1765366851462314\n",
      "6. Stephen Curry: 0.1740185306574057\n",
      "7. Nikola Jokic: 0.1725925733183824\n",
      "8. Russell Westbrook: 0.1306408948130648\n",
      "9. Rudy Gobert: 0.11824426902429565\n",
      "10. Damian Lillard: 0.10123934904712834\n"
     ]
    }
   ],
   "source": [
    "print(f\"Predictions\")\n",
    "for i in range(10):\n",
    "    print(f\"{i+1}. {top_players.iloc[sorted_indices[i]].Player}: {predictions[i]}\")"
   ]
  }
 ],
 "metadata": {
  "kernelspec": {
   "display_name": "Python 3",
   "language": "python",
   "name": "python3"
  },
  "language_info": {
   "codemirror_mode": {
    "name": "ipython",
    "version": 3
   },
   "file_extension": ".py",
   "mimetype": "text/x-python",
   "name": "python",
   "nbconvert_exporter": "python",
   "pygments_lexer": "ipython3",
   "version": "3.7.3"
  }
 },
 "nbformat": 4,
 "nbformat_minor": 2
}
