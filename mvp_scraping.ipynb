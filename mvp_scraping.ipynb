{
 "cells": [
  {
   "cell_type": "code",
   "execution_count": 2,
   "metadata": {},
   "outputs": [],
   "source": [
    "import requests\n",
    "from bs4 import BeautifulSoup\n",
    "import re\n",
    "from collections import defaultdict"
   ]
  },
  {
   "cell_type": "markdown",
   "metadata": {},
   "source": [
    "## Getting the data\n",
    "\n",
    "We are getting the data beginning from 1980-81 season up to past season for train and validation.\n",
    "We are beginning from 1980-81 season because previous to that season, voting was done by players."
   ]
  },
  {
   "cell_type": "code",
   "execution_count": 3,
   "metadata": {},
   "outputs": [],
   "source": [
    "def work_player_profile(param, season):\n",
    "    url = \"https://www.basketball-reference.com\" + param\n",
    "    res = requets.get(url)\n",
    "    soup = BeautifulSoup(res.text)\n",
    "    \n",
    "    data_dict = {}\n",
    "    \n",
    "    per_game = soup.find(attrs={'id': 'all_per_game'})\n",
    "    for row in per_game.findAll(\"tr\"):\n",
    "        if 'id' in row.attrs and row.attrs['id'] == 'per_game.' + season:\n",
    "            data_dict['fga'] = float(row.find('td', attrs={'data-stat': 'fga_per_g'}).text)\n",
    "            data_dict['fg3a'] = float(row.find('td', attrs={'data-stat': 'fg3a_per_g'}).text)\n",
    "            data_dcit['fta'] = float(row.find('td', attrs={'data-stat': 'fta_per_g'}).text)\n",
    "            break\n",
    "    \n",
    "    advanced_table = soup.find(attrs={'id': 'all_advanced'})\n",
    "    for child in advanced_table.children:\n",
    "        if 'table_outer_container' in child:\n",
    "            other_soup = BeautifulSoup(child)\n",
    "            rows = other_soup.findAll('tr')\n",
    "    for row in rows:\n",
    "        if 'id' in row.attrs and row.attrs['id'] == 'advanced.' + season:\n",
    "            data_dict.update(\n",
    "                {\n",
    "                    'per': float(row.find('td', attrs={'data-stat': 'per'}).text),\n",
    "                    'ts_pct': float(row.find('td', attrs={'data-stat': 'ts_pct'}).text),\n",
    "                    'usg_pct': float(row.find('td', attrs={'data-stat': 'usg_pct'}).text),\n",
    "                    'bpm': float(row.find('td', attrs={'data-stat': 'bpm'}).text),\n",
    "                    'season': str(int(season)-1) + '-' + season[-2:],\n",
    "                }\n",
    "            )\n",
    "            return data_dict"
   ]
  },
  {
   "cell_type": "code",
   "execution_count": 4,
   "metadata": {},
   "outputs": [],
   "source": [
    "def get_stats_of_voting(url):\n",
    "    res = requests.get(url)\n",
    "    soup = BeautifulSoup(res.text)\n",
    "    item = soup.find(attrs={'class': 'stats_table'})\n",
    "    rows = item.findAll('tr')\n",
    "    \n",
    "    season = url.split('.html')[0][-4:]\n",
    "    print(f\"Season: {season}\")"
   ]
  },
  {
   "cell_type": "code",
   "execution_count": 6,
   "metadata": {},
   "outputs": [
    {
     "name": "stdout",
     "output_type": "stream",
     "text": [
      "Season: 2011\n"
     ]
    }
   ],
   "source": [
    "seasons = [2011]\n",
    "new_data = defaultdict(list)\n",
    "\n",
    "for season in seasons:\n",
    "    url = f\"https://www.basketball-reference.com/awards/awards_{str(season)}.html\"\n",
    "    season_dict = get_stats_of_voting(url)"
   ]
  }
 ],
 "metadata": {
  "kernelspec": {
   "display_name": "Python 3",
   "language": "python",
   "name": "python3"
  },
  "language_info": {
   "codemirror_mode": {
    "name": "ipython",
    "version": 3
   },
   "file_extension": ".py",
   "mimetype": "text/x-python",
   "name": "python",
   "nbconvert_exporter": "python",
   "pygments_lexer": "ipython3",
   "version": "3.7.3"
  }
 },
 "nbformat": 4,
 "nbformat_minor": 2
}
